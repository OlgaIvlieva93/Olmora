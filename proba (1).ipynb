{
 "cells": [
  {
   "cell_type": "code",
   "execution_count": 14,
   "metadata": {},
   "outputs": [
    {
     "data": {
      "text/plain": [
       "'C:\\\\Users\\\\эльдо'"
      ]
     },
     "execution_count": 14,
     "metadata": {},
     "output_type": "execute_result"
    }
   ],
   "source": [
    "import urllib.request as req, json, numpy as np \n",
    "import os\n",
    "os.getcwd() \n",
    "\n",
    "\n"
   ]
  },
  {
   "cell_type": "code",
   "execution_count": 28,
   "metadata": {},
   "outputs": [
    {
     "name": "stdout",
     "output_type": "stream",
     "text": [
      "Всего мест 156\n"
     ]
    }
   ],
   "source": [
    "apikey = open(\"C:\\\\Users\\\\эльдо\\\\keys.txt\").read()\n",
    "req_template = \"https://apidata.mos.ru/v1/{}/?api_key={}\"\n",
    "\n",
    "raw = req.urlopen(req_template.format(\"datasets/912/rows\", apikey)).read()\n",
    "with open(\"picnic.json\", \"wb\") as f:\n",
    "    f.write(raw)\n",
    "\n",
    "with open(\"picnic.json\", \"rb\") as f:\n",
    "    raw = f.read()\n",
    "\n",
    "picnic = [row[\"Cells\"] for row in json.loads(raw)]\n",
    "\n",
    "print(\"Всего мест\", len(picnic))"
   ]
  },
  {
   "cell_type": "code",
   "execution_count": 30,
   "metadata": {},
   "outputs": [
    {
     "name": "stdout",
     "output_type": "stream",
     "text": [
      "Координаты: [37.5962793  55.90387218] [37.62439579 55.6041267 ] [37.46735372 55.65470589] ...\n",
      "Удобства: ... (0, 0, 1) (0, 0, 1) (0, 0, 1) (0, 0, 1) (0, 0, 1) ...\n"
     ]
    }
   ],
   "source": [
    "latlon =  np.array([r[\"geoData\"][\"coordinates\"] for r in picnic])\n",
    "print(\"Координаты:\", *latlon[:3], \"...\")\n",
    "convenience = [\n",
    "        (\n",
    "            int(r[\"HasWifi\"] != 'нет'), \n",
    "            int(r[\"HasToilet\"] != 'нет'), \n",
    "            int(r[\"Paid\"] == 'бесплатно')\n",
    "        ) \n",
    "        for r in picnic]\n",
    "print(\"Удобства:\", \"...\", *convenience[145:150], \"...\")\n"
   ]
  },
  {
   "cell_type": "code",
   "execution_count": 32,
   "metadata": {},
   "outputs": [],
   "source": [
    "def topN(expected, data, N):\n",
    "    norms = list(map(lambda row, number: (np.linalg.norm(row - expected), number), \n",
    "            data, range(len(data)) ))      # пары (расстояние, индекс)\n",
    "    norms.sort(key=lambda r: r[0])         # рейтинг\n",
    "    # множество индексов\n",
    "    return set(map(lambda r: r[1], norms[:N]))"
   ]
  },
  {
   "cell_type": "code",
   "execution_count": 36,
   "metadata": {},
   "outputs": [
    {
     "name": "stdout",
     "output_type": "stream",
     "text": [
      "Мы рассматриваем 19 ближайших и удобных мест. Самое интересное:\n",
      "Липецкая улица, дом 10, корпус 2\n",
      "\tWifi: да, WC: да, Цена: бесплатно\n"
     ]
    }
   ],
   "source": [
    "me_geo = np.array([37.740783, 55.687649])  # широта, долгота\n",
    "me_conv = np.array([1.0, 1.0, 1.0])        # хочу всё: wifi, туалет и чтобы бесплатно!\n",
    "\n",
    "depth = 1\n",
    "A, B = set(), set()\n",
    "# пока в пересечении ничего нет - расширяем поиск\n",
    "while not A & B: \n",
    "    A = topN(me_geo, latlon, depth)\n",
    "    B = topN(me_conv, convenience, depth)\n",
    "    depth += 1\n",
    "    \n",
    "print(\"Мы рассматриваем\", depth, \"ближайших и удобных мест. Самое интересное:\")\n",
    "for picnics in A & B:\n",
    "    row = picnic[picnics]\n",
    "    print(row[\"Address\"])\n",
    "    print(\"\\tWifi: {}, WC: {}, Цена: {}\".format(row[\"HasWifi\"], row[\"HasToilet\"], row[\"Paid\"]))"
   ]
  },
  {
   "cell_type": "code",
   "execution_count": 37,
   "metadata": {},
   "outputs": [
    {
     "data": {
      "text/plain": [
       "<Figure size 1000x700 with 1 Axes>"
      ]
     },
     "metadata": {},
     "output_type": "display_data"
    }
   ],
   "source": [
    "import matplotlib.pyplot as plt\n",
    "plt.rcParams.update({'font.size': 20})\n",
    "\n",
    "closest = np.array([latlon[i] for i in A])\n",
    "result = np.array([latlon[i] for i in A & B])\n",
    "plt.figure(figsize=(10,7))\n",
    "plt.plot(closest[:,0], closest[:,1], 'o', markersize=7, color='gray')\n",
    "plt.plot(result[:,0], result[:,1], 'v', markersize=10, color='black')\n",
    "plt.plot(*me_geo, '*', markersize=15, color='black')\n",
    "plt.annotate(\"дом\", xy=me_geo, xytext=(-15, -20), textcoords='offset points')\n",
    "plt.annotate(\"каток!\", xy=result[0], xytext=(-20, 10), textcoords='offset points')\n",
    "plt.grid(True)\n",
    "plt.xlabel('долгота')\n",
    "plt.ylabel('широта')\n",
    "plt.show()"
   ]
  }
 ],
 "metadata": {
  "kernelspec": {
   "display_name": "Python 3",
   "language": "python",
   "name": "python3"
  },
  "language_info": {
   "codemirror_mode": {
    "name": "ipython",
    "version": 3
   },
   "file_extension": ".py",
   "mimetype": "text/x-python",
   "name": "python",
   "nbconvert_exporter": "python",
   "pygments_lexer": "ipython3",
   "version": "3.7.3"
  }
 },
 "nbformat": 4,
 "nbformat_minor": 2
}
